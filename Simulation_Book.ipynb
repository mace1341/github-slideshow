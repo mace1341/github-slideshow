{
  "nbformat": 4,
  "nbformat_minor": 0,
  "metadata": {
    "colab": {
      "provenance": [],
      "mount_file_id": "1ic7ZgmeBQ0z2ANkay3zlrOyL143pH6cD",
      "authorship_tag": "ABX9TyNrsVeFM/X1oupzQg4BR5/O",
      "include_colab_link": true
    },
    "kernelspec": {
      "name": "python3",
      "display_name": "Python 3"
    },
    "language_info": {
      "name": "python"
    }
  },
  "cells": [
    {
      "cell_type": "markdown",
      "metadata": {
        "id": "view-in-github",
        "colab_type": "text"
      },
      "source": [
        "<a href=\"https://colab.research.google.com/github/mace1341/github-slideshow/blob/main/Simulation_Book.ipynb\" target=\"_parent\"><img src=\"https://colab.research.google.com/assets/colab-badge.svg\" alt=\"Open In Colab\"/></a>"
      ]
    },
    {
      "cell_type": "markdown",
      "source": [
        "# Import Libraries"
      ],
      "metadata": {
        "id": "6q6i_Tc8L2x1"
      }
    },
    {
      "cell_type": "code",
      "execution_count": null,
      "metadata": {
        "id": "BZDmcOPQCvjR"
      },
      "outputs": [],
      "source": [
        "import pandas as pd\n",
        "import numpy as np\n"
      ]
    },
    {
      "cell_type": "markdown",
      "source": [
        "# Functions"
      ],
      "metadata": {
        "id": "YqNV83EIMHbv"
      }
    },
    {
      "cell_type": "code",
      "source": [
        "# from modsim.py\n",
        "\n",
        "def State(**variables):\n",
        "    \"\"\"Contains the values of state variables.\"\"\"\n",
        "    return pd.Series(variables, name='state')"
      ],
      "metadata": {
        "id": "_8-w2YakLDUF"
      },
      "execution_count": null,
      "outputs": []
    },
    {
      "cell_type": "markdown",
      "source": [
        "# Operations"
      ],
      "metadata": {
        "id": "41ZMNk6vMOoi"
      }
    },
    {
      "cell_type": "code",
      "source": [
        "scores = State(john=10, debby=7)\n",
        "scores"
      ],
      "metadata": {
        "id": "SqxXMRnYH97F"
      },
      "execution_count": null,
      "outputs": []
    }
  ]
}